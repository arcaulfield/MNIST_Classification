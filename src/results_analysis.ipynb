{
 "cells": [
  {
   "cell_type": "markdown",
   "metadata": {},
   "source": [
    "\n",
    "# Analysis of the prediction results\n",
    "\n",
    "The aim of this notebook is to retrieve which samples in the training data were wrongly classified.\n",
    "For a subset of the mis-classfied results, it shows the inputs fed into the model and the models' output certainty,\n",
    "so as to allow visualisation of the process and potentially pinpoint what caused the issue.\n",
    "\n",
    "## Retrieval of misclassified samples"
   ]
  },
  {
   "cell_type": "code",
   "execution_count": null,
   "metadata": {
    "pycharm": {
     "is_executing": true,
     "name": "#%%\n"
    }
   },
   "outputs": [
    {
     "name": "stdout",
     "text": [
      "\tThe model file cannot be found at ../models\\CNN_TRIO.h5 so it will be retrained.\n"
     ],
     "output_type": "stream"
    }
   ],
   "source": [
    "import os\n",
    "import matplotlib.pyplot as plt\n",
    "import numpy as np\n",
    "import pandas as pd\n",
    "from src.data_processing.MNIST import transform_to_trio_MNIST, prepare_for_model_training\n",
    "from src.data_processing.number_extraction import extract_3_and_paste, extract_k_numbers\n",
    "from src.models.max_mnist_predictor import MaxMNISTPredictor\n",
    "from src.models.mnist_predictor import get_model\n",
    "from src.evaluate_MNIST_models import train_model as train_model_MNIST\n",
    "from src.evaluate_trio_mnist import train_model as train_model_trio_MNIST\n",
    "from src.util.fileio import load_pkl_file, load_training_labels, show_image, load_model\n",
    "from src.config import data_path, training_images_file, training_labels_file_name, retrain_models, models_path, \\\n",
    "    MNIST_PIXEL\n",
    "\n",
    "analysis_model = \"CNN\"\n",
    "analysis_dataset = \"TRIO\"\n",
    "\n",
    "# here, train the model if not already trained\n",
    "if not retrain_models:\n",
    "    try:\n",
    "        model = get_model(analysis_model, (MNIST_PIXEL, 3 * MNIST_PIXEL, 1) if analysis_dataset == \"TRIO\" else (MNIST_PIXEL, MNIST_PIXEL, 1))\n",
    "        model_path = os.path.join(models_path, analysis_model + \"_\" + analysis_dataset + \".h5\")\n",
    "        load_model(model_path, model)\n",
    "        model.summary()\n",
    "    except:\n",
    "        print(\"\\tThe model file cannot be found at \" + model_path + \" so it will be retrained.\")\n",
    "        if analysis_dataset == \"TRIO\":\n",
    "            model = train_model_trio_MNIST(analysis_model, generate_results=False)\n",
    "        else:\n",
    "            model = train_model_MNIST(analysis_model, analysis_dataset)\n",
    "else:\n",
    "    if analysis_dataset == \"TRIO\":\n",
    "        model = train_model_trio_MNIST(analysis_model, generate_results=False)\n",
    "    else:\n",
    "        model = train_model_MNIST(analysis_model, analysis_dataset)\n",
    "\n",
    "# Once model is found, predict on train data\n",
    "training_images_file_path = os.path.join(data_path, training_images_file)\n",
    "training_labels_file_path = os.path.join(data_path, training_labels_file_name)\n",
    "x_train = load_pkl_file(training_images_file_path)\n",
    "y_train = load_training_labels(training_labels_file_path)\n",
    "\n",
    "# Predict output\n",
    "print(\"\\tPredicting data to model: \" + analysis_model)\n",
    "if analysis_dataset == \"TRIO\":\n",
    "    x_train_trio = transform_to_trio_MNIST(x_train)\n",
    "    x_train_trio = prepare_for_model_training(x_train_trio)\n",
    "    y_predicted = model.predict(x_train_trio).argmax(axis=1)\n",
    "else:\n",
    "    y_predicted = MaxMNISTPredictor(model).predict_max_num(x_train)\n",
    "\n",
    "# print the wrongly classified samples\n",
    "df = pd.DataFrame()\n",
    "df[\"actual\"] = y_train\n",
    "df[\"predicted\"] = y_predicted\n",
    "incorrect = df[df[\"actual\"] != df[\"predicted\"]]\n",
    "print(\"There is a total of \" + str(incorrect.shape[1]) + \" incorrect predictions\")\n",
    "print(incorrect)"
   ]
  },
  {
   "cell_type": "markdown",
   "metadata": {},
   "source": [
    "EXPLAIN WHAT WE SEE"
   ]
  },
  {
   "cell_type": "code",
   "execution_count": null,
   "outputs": [],
   "source": [
    "def plot_bar_pred_score(values):\n",
    "    # this is for plotting purpose\n",
    "    index = np.arange(10)\n",
    "    plt.bar(index, values)\n",
    "    plt.xlabel('Classification', fontsize=5)\n",
    "    plt.ylabel('Percentage score', fontsize=5)\n",
    "    plt.xticks(index, range(10), fontsize=5, rotation=30)\n",
    "    plt.title('Classification score')\n",
    "    plt.show()"
   ],
   "metadata": {
    "collapsed": false,
    "pycharm": {
     "name": "#%%\n",
     "is_executing": true
    }
   }
  },
  {
   "cell_type": "markdown",
   "source": [
    "## Subset input analysis\n",
    "\n",
    "Now, from the gathered predictions, print the original images of the first N wrongly classified samples.\n",
    "Also, depending on which model was chosen, print the processed image that was fed to the model."
   ],
   "metadata": {
    "collapsed": false
   }
  },
  {
   "cell_type": "code",
   "execution_count": null,
   "metadata": {
    "pycharm": {
     "is_executing": true,
     "name": "#%%\n"
    }
   },
   "outputs": [],
   "source": [
    "NB_ERRORS = 15\n",
    "subset_incorrect = incorrect.head(NB_ERRORS)\n",
    "\n",
    "if analysis_dataset == \"MNIST\":\n",
    "    # print the 3 unique images\n",
    "    for sample_id in subset_incorrect.index:\n",
    "        # print the original image\n",
    "        image = x_train[sample_id]\n",
    "        show_image(image)\n",
    "        \n",
    "        # print the extracted numbers image and their pred score\n",
    "        extracted_numbers = extract_k_numbers(image)\n",
    "        for extracted_nb in extracted_numbers:\n",
    "            show_image(extracted_nb)\n",
    "            extracted_nb = prepare_for_model_training(extracted_nb)\n",
    "            extracted_prediction_score = model.predict_proba(extracted_nb[np.newaxis, ...])\n",
    "            plot_bar_pred_score(extracted_prediction_score[0])# TODO: should print a graph of predictions\n",
    "\n",
    "elif analysis_dataset == \"TRIO\":\n",
    "    for sample_id in subset_incorrect.index:\n",
    "        # print the original image\n",
    "        image = x_train[sample_id]\n",
    "        show_image(image)\n",
    "        \n",
    "        # print the combined images\n",
    "        trio = extract_3_and_paste(image, get_permutations = False)\n",
    "        show_image(trio)\n",
    "        \n",
    "        # get the prediction score for the given sample\n",
    "        trio = prepare_for_model_training(trio)\n",
    "        prediction_score = model.predict_proba(trio[np.newaxis, ...])\n",
    "        plot_bar_pred_score(prediction_score[0])# TODO: should print a graph of predictions"
   ]
  },
  {
   "cell_type": "markdown",
   "metadata": {},
   "source": [
    "EXPLAIN WHAT SEE\n",
    "\n",
    "\n",
    "## Subset output analysis\n",
    "\n",
    "From the gathered predictions, show the model's evaluation on all classifications of of the first N wrongly classified samples."
   ]
  },
  {
   "cell_type": "markdown",
   "metadata": {
    "pycharm": {
     "name": "#%% md\n"
    }
   },
   "source": [
    "EXPLAIN"
   ]
  }
 ],
 "metadata": {
  "kernelspec": {
   "display_name": "Python 3",
   "language": "python",
   "name": "python3"
  },
  "language_info": {
   "codemirror_mode": {
    "name": "ipython",
    "version": 3
   },
   "file_extension": ".py",
   "mimetype": "text/x-python",
   "name": "python",
   "nbconvert_exporter": "python",
   "pygments_lexer": "ipython3",
   "version": "3.6.5"
  },
  "pycharm": {
   "stem_cell": {
    "cell_type": "raw",
    "source": [],
    "metadata": {
     "collapsed": false
    }
   }
  }
 },
 "nbformat": 4,
 "nbformat_minor": 1
}